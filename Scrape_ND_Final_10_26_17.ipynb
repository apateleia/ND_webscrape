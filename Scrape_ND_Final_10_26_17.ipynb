{
 "cells": [
  {
   "cell_type": "code",
   "execution_count": null,
   "metadata": {
    "collapsed": false
   },
   "outputs": [],
   "source": [
    "import requests\n",
    "from bs4 import BeautifulSoup\n",
    "import pandas as pd\n",
    "import time\n",
    "from itertools import product\n",
    "from requests import ConnectionError\n",
    "\n",
    "#from requests.auth import HTTPDigestAuth"
   ]
  },
  {
   "cell_type": "code",
   "execution_count": null,
   "metadata": {
    "collapsed": true
   },
   "outputs": [],
   "source": [
    "df = None"
   ]
  },
  {
   "cell_type": "code",
   "execution_count": null,
   "metadata": {
    "collapsed": false,
    "scrolled": true
   },
   "outputs": [],
   "source": [
    "#set authorizations\n",
    "\n",
    "from requests.auth import HTTPBasicAuth\n",
    "\n",
    "s = requests.Session()\n",
    "s.auth = ('energydept', 'Independusa*')\n",
    "#s.headers['User-Agent'] = \"Mozilla/5.0 (Macintosh; Intel Mac OS X 10_12_6) AppleWebKit/537.36 (KHTML, like Gecko) Chrome/59.0.3071.115 Safari/537.36\"\n",
    "s.headers['Referer'] = \"https://www.dmr.nd.gov/oilgas/feeservices/stateprod.asp\"\n",
    "s.headers['Host'] = \"www.dmr.nd.gov\"\n",
    "s.headers['Accept'] = \"text/html,application/xhtml+xml,application/xml;q=0.9,image/webp,image/apng,*/*;q=0.8\"\n",
    "s.headers['Accept-Language'] = \"en-US,en;q=0.8\"\n",
    "s.headers['Accept-Encoding'] = 'gzip, deflate, br'\n",
    "s.headers['Upgrade-Insecure-Requests'] = \"1\"\n",
    "s.headers['Content-Type'] = \"application/x-www-form-urlencoded\"\n",
    "response = s.get('https://www.dmr.nd.gov/oilgas/feeservices/stateprod.asp', auth=HTTPBasicAuth('energydept', 'Independusa*'), verify=False)\n"
   ]
  },
  {
   "cell_type": "code",
   "execution_count": null,
   "metadata": {
    "collapsed": false
   },
   "outputs": [],
   "source": [
    "#run historic years which have all 12 months of data available (range 1-13)\n",
    "#add 1- range works so that it values not including last\n",
    "#range(2010, 2018) will pull all years 2010-2017\n",
    "for month_i, year in product(range(1,13), range(2010, 2018)):\n",
    "    time.sleep(7)\n",
    "    try:\n",
    "        month = str(\"%02d\" % (month_i))\n",
    "\n",
    "        payload = \"VTI-GROUP=0&SELECTMONTH=\"+month+\"&SELECTYEAR=\"+str(year)+\"&B1=Get+State+Volumes\"\n",
    "        response = s.post('https://www.dmr.nd.gov/oilgas/feeservices/stateprod.asp',data=payload,  verify=False)\n",
    "\n",
    "        soup = BeautifulSoup(response.text, 'lxml')\n",
    "        table = soup.find(\"table\", {\"id\": \"largeTableOutput\"})\n",
    "        data = []\n",
    "        table_body = table.find('tbody')\n",
    "\n",
    "        rows = table_body.find_all('tr')\n",
    "        for row in rows:\n",
    "            cols = row.find_all('td')\n",
    "            cols = [ele.text.strip() for ele in cols]\n",
    "            data.append([ele for ele in cols if ele]) # Get rid of empty values\n",
    "\n",
    "\n",
    "        columns = table.find_all('th')\n",
    "        col_names = []\n",
    "        for column in columns:\n",
    "            col_names.append(column.text.strip())\n",
    "        col_names\n",
    "\n",
    "        if df is None:\n",
    "            df=pd.DataFrame(data,columns=col_names)\n",
    "        else:\n",
    "            df_temp=pd.DataFrame(data,columns=col_names)\n",
    "            df = df.append(df_temp)\n",
    "    except: \n",
    "        try:\n",
    "    \n",
    "            month = str(\"%02d\" % (month_i))\n",
    "\n",
    "            payload = \"VTI-GROUP=0&SELECTMONTH=\"+month+\"&SELECTYEAR=\"+str(year)+\"&B1=Get+State+Volumes\"\n",
    "            response = s.post('https://www.dmr.nd.gov/oilgas/feeservices/stateprod.asp',data=payload,  verify=False)\n",
    "\n",
    "            soup = BeautifulSoup(response.text, 'lxml')\n",
    "            table = soup.find(\"table\", {\"id\": \"largeTableOutput\"})\n",
    "            data = []\n",
    "            table_body = table.find('tbody')\n",
    "\n",
    "            rows = table_body.find_all('tr')\n",
    "            for row in rows:\n",
    "                cols = row.find_all('td')\n",
    "                cols = [ele.text.strip() for ele in cols]\n",
    "                data.append([ele for ele in cols if ele]) # Get rid of empty values\n",
    "\n",
    "\n",
    "            columns = table.find_all('th')\n",
    "            col_names = []\n",
    "            for column in columns:\n",
    "                col_names.append(column.text.strip())\n",
    "            col_names\n",
    "\n",
    "            if df is None:\n",
    "                df=pd.DataFrame(data,columns=col_names)\n",
    "            else:\n",
    "                df_temp=pd.DataFrame(data,columns=col_names)\n",
    "                df = df.append(df_temp)\n",
    "        except OSError as err:\n",
    "            print(\"OS error: {0}\".format(err))\n",
    "            continue\n",
    "        except ValueError:\n",
    "            print(\"Could not convert data to an integer.\")\n",
    "            continue\n",
    "        except:\n",
    "            print(\"Unexpected error:\", sys.exc_info()[0])\n",
    "            continue"
   ]
  },
  {
   "cell_type": "code",
   "execution_count": null,
   "metadata": {
    "collapsed": false
   },
   "outputs": [],
   "source": [
    "#convert date\n",
    "df['Date1'] =  pd.to_datetime(df['Date'], format='%m-%Y')"
   ]
  },
  {
   "cell_type": "code",
   "execution_count": null,
   "metadata": {
    "collapsed": false
   },
   "outputs": [],
   "source": [
    "#write to csv\n",
    "df.to_csv('Z:/OilProduction/ND/ND_website_scrape/Current_Website_Output/ND_well_2010_2017.csv', sep=',', index=False)"
   ]
  },
  {
   "cell_type": "code",
   "execution_count": null,
   "metadata": {
    "collapsed": false
   },
   "outputs": [],
   "source": [
    "#run 2018 which does not have all months of data available since it is current month\n",
    "#running through June/2018\n",
    "for month_i, year in product(range(1,6),range(2018, 2019)):\n",
    "    time.sleep(7)\n",
    "    try:\n",
    "        month = str(\"%02d\" % (month_i))\n",
    "\n",
    "        payload = \"VTI-GROUP=0&SELECTMONTH=\"+month+\"&SELECTYEAR=\"+str(year)+\"&B1=Get+State+Volumes\"\n",
    "        response = s.post('https://www.dmr.nd.gov/oilgas/feeservices/stateprod.asp', data=payload,  verify=False)\n",
    "\n",
    "        soup = BeautifulSoup(response.text, 'lxml')\n",
    "        table = soup.find(\"table\", {\"id\": \"largeTableOutput\"})\n",
    "        data = []\n",
    "        table_body = table.find('tbody')\n",
    "\n",
    "        rows = table_body.find_all('tr')\n",
    "        for row in rows:\n",
    "            cols = row.find_all('td')\n",
    "            cols = [ele.text.strip() for ele in cols]\n",
    "            data.append([ele for ele in cols if ele]) # Get rid of empty values\n",
    "\n",
    "\n",
    "        columns = table.find_all('th')\n",
    "        col_names = []\n",
    "        for column in columns:\n",
    "            col_names.append(column.text.strip())\n",
    "        col_names\n",
    "\n",
    "        if df is None:\n",
    "            df=pd.DataFrame(data,columns=col_names)\n",
    "        else:\n",
    "            df_temp=pd.DataFrame(data,columns=col_names)\n",
    "            df = df.append(df_temp)\n",
    "    except OSError as err:\n",
    "        print(\"OS error: {0}\".format(err))\n",
    "        continue\n",
    "    except ValueError:\n",
    "        print(\"Could not convert data to an integer.\")\n",
    "        continue\n",
    "    except:\n",
    "        print(\"Unexpected error:\", sys.exc_info()[0])\n",
    "        continue\n",
    "\n",
    "\n",
    "                  \n",
    "\n"
   ]
  },
  {
   "cell_type": "code",
   "execution_count": null,
   "metadata": {
    "collapsed": true
   },
   "outputs": [],
   "source": [
    "#convert date\n",
    "df['Date1'] =  pd.to_datetime(df['Date'], format='%m-%Y')"
   ]
  },
  {
   "cell_type": "code",
   "execution_count": null,
   "metadata": {
    "collapsed": false
   },
   "outputs": [],
   "source": [
    "#write to csv\n",
    "df.to_csv('Z:/OilProduction/ND/ND_website_scrape/Current_Website_Output/ND_well_prod_2018.csv', sep=',', index=False)"
   ]
  }
 ],
 "metadata": {
  "anaconda-cloud": {},
  "kernelspec": {
   "display_name": "Python [conda root]",
   "language": "python",
   "name": "conda-root-py"
  },
  "language_info": {
   "codemirror_mode": {
    "name": "ipython",
    "version": 3
   },
   "file_extension": ".py",
   "mimetype": "text/x-python",
   "name": "python",
   "nbconvert_exporter": "python",
   "pygments_lexer": "ipython3",
   "version": "3.5.2"
  }
 },
 "nbformat": 4,
 "nbformat_minor": 2
}
